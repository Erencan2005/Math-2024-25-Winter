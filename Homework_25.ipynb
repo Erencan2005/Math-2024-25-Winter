{
  "nbformat": 4,
  "nbformat_minor": 0,
  "metadata": {
    "colab": {
      "provenance": [],
      "authorship_tag": "ABX9TyPE4lctdWDAs1HwtQ3MT6AQ",
      "include_colab_link": true
    },
    "kernelspec": {
      "name": "python3",
      "display_name": "Python 3"
    },
    "language_info": {
      "name": "python"
    }
  },
  "cells": [
    {
      "cell_type": "markdown",
      "metadata": {
        "id": "view-in-github",
        "colab_type": "text"
      },
      "source": [
        "<a href=\"https://colab.research.google.com/github/Erencan2005/Math-2024-25-Winter/blob/main/Homework_25.ipynb\" target=\"_parent\"><img src=\"https://colab.research.google.com/assets/colab-badge.svg\" alt=\"Open In Colab\"/></a>"
      ]
    },
    {
      "cell_type": "markdown",
      "source": [
        "## 25. Differential Equations"
      ],
      "metadata": {
        "id": "PYYSNfEmyuUh"
      }
    },
    {
      "cell_type": "markdown",
      "source": [
        "\\documentclass{article}\n",
        "\\usepackage{amsmath, amssymb}\n",
        "\n",
        "\\begin{document}\n",
        "\n",
        "\\section*{Ordinary Differential Equations and Wave Equation}\n",
        "\n",
        "\\subsection*{1. First-Order ODEs}\n",
        "\n",
        "\\begin{align*}\n",
        "    y'(x) &= y(x) \\Rightarrow \\frac{dy}{dx} = y \\Rightarrow \\int \\frac{dy}{y} = \\int dx \\Rightarrow \\ln |y| = x + C \\Rightarrow y(x) = Ce^x.\n",
        "\\end{align*}\n",
        "\n",
        "\\begin{align*}\n",
        "    y'(x) &= \\frac{1}{2y(x)} \\Rightarrow 2y dy = dx \\Rightarrow \\int 2y dy = \\int dx \\Rightarrow y^2 = x + C \\Rightarrow y(x) = \\pm \\sqrt{x + C}.\n",
        "\\end{align*}\n",
        "\n",
        "\\subsection*{2. First-Order ODEs using Separation of Variables}\n",
        "\n",
        "\\begin{align*}\n",
        "    \\frac{dy}{dx} &= \\frac{x}{y} \\Rightarrow y dy = x dx \\Rightarrow \\int y dy = \\int x dx \\Rightarrow \\frac{y^2}{2} = \\frac{x^2}{2} + C \\Rightarrow y^2 = x^2 + C.\n",
        "\\end{align*}\n",
        "\n",
        "\\begin{align*}\n",
        "    \\frac{dy}{dx} &= \\frac{y}{x} \\Rightarrow \\frac{dy}{y} = \\frac{dx}{x} \\Rightarrow \\int \\frac{dy}{y} = \\int \\frac{dx}{x} \\Rightarrow \\ln |y| = \\ln |x| + C \\Rightarrow y = Cx.\n",
        "\\end{align*}\n",
        "\n",
        "\\begin{align*}\n",
        "    \\frac{dy}{dx} &= xy \\Rightarrow \\frac{dy}{y} = x dx \\Rightarrow \\int \\frac{dy}{y} = \\int x dx \\Rightarrow \\ln |y| = \\frac{x^2}{2} + C \\Rightarrow y = Ce^{x^2/2}.\n",
        "\\end{align*}\n",
        "\n",
        "\\subsection*{3. Second-Order ODEs}\n",
        "\n",
        "\\begin{align*}\n",
        "    y'' + y' &= 0 \\Rightarrow \\text{let } v = y', \\text{ then } v' + v = 0 \\Rightarrow v = Ce^{-x} \\Rightarrow y(x) = A + Be^{-x}. \\\\\n",
        "    \\text{Applying conditions: } y(0) = 2, y'(0) = -1, \\text{ solve for } A, B.\n",
        "\\end{align*}\n",
        "\n",
        "\\begin{align*}\n",
        "    y'' - y &= 0 \\Rightarrow r^2 - 1 = 0 \\Rightarrow r = \\pm1 \\Rightarrow y(x) = A e^x + B e^{-x}. \\\\\n",
        "    \\text{Applying conditions: } y(0) = 2, y'(0) = 0, \\text{ solve for } A, B.\n",
        "\\end{align*}\n",
        "\n",
        "\\begin{align*}\n",
        "    \\frac{d^2 y}{dx^2} &= -\\omega^2 y \\Rightarrow y(x) = A \\cos(\\omega x) + B \\sin(\\omega x).\n",
        "\\end{align*}\n",
        "\n",
        "\\subsection*{4. Verification of the Wave Equation}\n",
        "\n",
        "Given:\n",
        "\\begin{align*}\n",
        "    \\psi(t, x) = A \\cos(\\omega t + kx)\n",
        "\\end{align*}\n",
        "\n",
        "Compute second partial derivatives:\n",
        "\\begin{align*}\n",
        "    \\frac{\\partial^2 \\psi}{\\partial t^2} &= -\\omega^2 A \\cos(\\omega t + kx), \\\\\n",
        "    \\frac{\\partial^2 \\psi}{\\partial x^2} &= -k^2 A \\cos(\\omega t + kx).\n",
        "\\end{align*}\n",
        "\n",
        "Substituting into the wave equation:\n",
        "\\begin{align*}\n",
        "    \\frac{\\partial^2 \\psi}{\\partial t^2} - v^2 \\frac{\\partial^2 \\psi}{\\partial x^2} &= -\\omega^2 A \\cos(\\omega t + kx) + \\left(\\frac{\\omega^2}{k^2}\\right) k^2 A \\cos(\\omega t + kx) = 0.\n",
        "\\end{align*}\n",
        "\n",
        "Thus, $\\psi(t, x)$ satisfies the wave equation.\n",
        "\n",
        "\\end{document}"
      ],
      "metadata": {
        "id": "FcmygCYpzO5u"
      }
    },
    {
      "cell_type": "code",
      "source": [
        "import sympy as sp\n",
        "\n",
        "# Define variables and functions\n",
        "x, y, t, k, omega, v = sp.symbols('x y t k omega v')\n",
        "y_func = sp.Function('y')(x)\n",
        "psi = sp.Function('psi')(t, x)\n",
        "\n",
        "# 1. Solve first-order ODEs\n",
        "deq1 = sp.Eq(sp.Derivative(y_func, x), y_func)\n",
        "deq2 = sp.Eq(sp.Derivative(y_func, x), 1 / (2 * y_func))\n",
        "sol1 = sp.dsolve(deq1, y_func)\n",
        "sol2 = sp.dsolve(deq2, y_func)\n",
        "\n",
        "# 3. Solve using separation of variables\n",
        "deq3 = sp.Eq(sp.Derivative(y_func, x), x / y_func)\n",
        "deq4 = sp.Eq(sp.Derivative(y_func, x), y_func / x)\n",
        "deq5 = sp.Eq(sp.Derivative(y_func, x), x * y_func)\n",
        "sol3 = sp.dsolve(deq3, y_func)\n",
        "sol4 = sp.dsolve(deq4, y_func)\n",
        "sol5 = sp.dsolve(deq5, y_func)\n",
        "\n",
        "# 4. Solve second-order ODEs\n",
        "y_func_2 = sp.Function('y')(x)\n",
        "deq6 = sp.Eq(sp.Derivative(y_func_2, x, x) + sp.Derivative(y_func_2, x), 0)\n",
        "deq7 = sp.Eq(sp.Derivative(y_func_2, x, x) - y_func_2, 0)\n",
        "deq8 = sp.Eq(sp.Derivative(y_func_2, x, x), -omega**2 * y_func_2)\n",
        "sol6 = sp.dsolve(deq6, y_func_2)\n",
        "sol7 = sp.dsolve(deq7, y_func_2)\n",
        "sol8 = sp.dsolve(deq8, y_func_2)\n",
        "\n",
        "# 5. Check if psi satisfies the wave equation\n",
        "wave_eq = sp.diff(psi, t, t) - v**2 * sp.diff(psi, x, x)\n",
        "psi_expr = sp.cos(omega * t + k * x)\n",
        "wavesol = wave_eq.subs(psi, psi_expr).simplify()\n",
        "\n",
        "# Display solutions\n",
        "solutions = {\n",
        "    \"First-order ODE 1\": sol1,\n",
        "    \"First-order ODE 2\": sol2,\n",
        "    \"Separable ODE 1\": sol3,\n",
        "    \"Separable ODE 2\": sol4,\n",
        "    \"Separable ODE 3\": sol5,\n",
        "    \"Second-order ODE 1\": sol6,\n",
        "    \"Second-order ODE 2\": sol7,\n",
        "    \"Second-order ODE 3\": sol8,\n",
        "    \"Wave Equation Check\": wavesol == 0\n",
        "}\n",
        "\n",
        "for key, value in solutions.items():\n",
        "    print(f\"{key}: {value}\\n\")"
      ],
      "metadata": {
        "colab": {
          "base_uri": "https://localhost:8080/"
        },
        "id": "hq5KBVpkzuFx",
        "outputId": "f3fcaea4-d1cc-4f02-bcde-f2822b487302"
      },
      "execution_count": 5,
      "outputs": [
        {
          "output_type": "stream",
          "name": "stdout",
          "text": [
            "First-order ODE 1: Eq(y(x), C1*exp(x))\n",
            "\n",
            "First-order ODE 2: [Eq(y(x), -sqrt(C1 + x)), Eq(y(x), sqrt(C1 + x))]\n",
            "\n",
            "Separable ODE 1: [Eq(y(x), -sqrt(C1 + x**2)), Eq(y(x), sqrt(C1 + x**2))]\n",
            "\n",
            "Separable ODE 2: Eq(y(x), C1*x)\n",
            "\n",
            "Separable ODE 3: Eq(y(x), C1*exp(x**2/2))\n",
            "\n",
            "Second-order ODE 1: Eq(y(x), C1 + C2*exp(-x))\n",
            "\n",
            "Second-order ODE 2: Eq(y(x), C1*exp(-x) + C2*exp(x))\n",
            "\n",
            "Second-order ODE 3: Eq(y(x), C1*exp(-I*omega*x) + C2*exp(I*omega*x))\n",
            "\n",
            "Wave Equation Check: False\n",
            "\n"
          ]
        }
      ]
    }
  ]
}